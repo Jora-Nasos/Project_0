{
 "cells": [
  {
   "cell_type": "code",
   "execution_count": 24,
   "metadata": {},
   "outputs": [
    {
     "name": "stdout",
     "output_type": "stream",
     "text": [
      "Алгоритм угадывает число в среднем за 5 попыток\n"
     ]
    }
   ],
   "source": [
    "\n",
    "def number_finder (number):\n",
    "    '''Finding number'''\n",
    "    right_edge = 100 \n",
    "    left_edge = 0\n",
    "    counter = 0\n",
    "    predictor = 0\n",
    "        \n",
    "    if number > right_edge or number < 0:    # проверяем чтобы загаданное число было от 0 до 100\n",
    "        print(f'Загаданное число {number} не в промежутке поиска')\n",
    "        return\n",
    "    \n",
    "    while True:\n",
    "        predictor = (left_edge + right_edge)//2  # Итеративно делим промежуток в котором угадываем попалам\n",
    "        counter += 1\n",
    "        if predictor == number: # Проверяем является ли число посередине промежутка поиска загаданным\n",
    "            return counter\n",
    "        if predictor > number: \n",
    "            right_edge = predictor # Если загаданное число слева от середины промежутка, \n",
    "                                 # то выбираем левый от середины промежуток новым для поиска\n",
    "        elif right_edge-predictor == 1: # проверка на случай если загаданное = 100, т.к. 199//2=99 и зациклимся\n",
    "            return counter\n",
    "        else:\n",
    "            left_edge=predictor  # Если загаданное число справа от середины промежутка, \n",
    "                                 # то выбираем правый от середины промежуток новым для поиска\n",
    "\n",
    "          \n",
    "            \n",
    "def score_game(number_finder):\n",
    "    '''Start game 1000 times to define average number of attempts to guess number'''\n",
    "    count_ls = []\n",
    "    np.random.seed(1)  # фиксируем RANDOM SEED, чтобы ваш эксперимент был воспроизводим!\n",
    "    random_array = np.random.randint(1,101, size =(1000))\n",
    "    for number in random_array:\n",
    "        count_ls.append(number_finder(number))\n",
    "    score = int(np.mean(count_ls))\n",
    "    print(\"Алгоритм угадывает число в среднем за {} попыток\".format(score))\n",
    "    return\n",
    "\n",
    "import numpy as np  \n",
    "score_game(number_finder)\n"
   ]
  },
  {
   "cell_type": "code",
   "execution_count": null,
   "metadata": {},
   "outputs": [],
   "source": []
  },
  {
   "cell_type": "code",
   "execution_count": null,
   "metadata": {},
   "outputs": [],
   "source": []
  },
  {
   "cell_type": "code",
   "execution_count": null,
   "metadata": {},
   "outputs": [],
   "source": []
  }
 ],
 "metadata": {
  "kernelspec": {
   "display_name": "Python 3",
   "language": "python",
   "name": "python3"
  },
  "language_info": {
   "codemirror_mode": {
    "name": "ipython",
    "version": 3
   },
   "file_extension": ".py",
   "mimetype": "text/x-python",
   "name": "python",
   "nbconvert_exporter": "python",
   "pygments_lexer": "ipython3",
   "version": "3.8.3"
  }
 },
 "nbformat": 4,
 "nbformat_minor": 4
}
